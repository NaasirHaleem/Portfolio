{
 "cells": [
  {
   "cell_type": "markdown",
   "metadata": {},
   "source": [
    "# Wish - Summer Clothing Sale Predictions\n",
    "\n",
    "Background: Wish is an eCommerce website. The platform keeps track of ratings, merchant ratings, and other factors as they relate to product listings. It is important to determine what drives unit sales for products beyond factors such as ratings. The dataset involved in this project solely contained Summer Clothing. Thus, I set out to model unit sales as they related to variables associated with each product.\n",
    "\n",
    "The dataset for this project can be found at:\n",
    "\n",
    "https://www.kaggle.com/jmmvutu/summer-products-and-sales-in-ecommerce-wish\n",
    "\n",
    "The purpose of this notebook is to analyze the driving factors behind Wish Summer Clothing Unit sales. I used Microsoft Azure SQL to organize the data prior to any analysis done here. I will include the SQL code in each section of the project to show how this organization was done. \n",
    "\n",
    "\n",
    "There are 3 parts of this project.\n",
    "\n",
    "1. Creating correlation table to understand which quantitative values had strongest correlations.\n",
    "\n",
    "2. Doing a Multilinear Regression and a Polynomial Regression to see if I can create a model that will determine unit sales based on multiple variables.\n",
    "\n",
    "3. Understanding how clothing color can affect sales."
   ]
  },
  {
   "cell_type": "markdown",
   "metadata": {},
   "source": [
    "# Step 1: Correlation Table\n",
    "\n",
    "<b> Why: </b> I am creating a correlation table to see which factors are related to unit sales. This should offer an informative answer as to what future decisions should be made regarding sales strategy.\n",
    "\n",
    "<b> How: </b> I will use Matplotlib, Scikit, and Pandas to clean the data and create a correlation table."
   ]
  },
  {
   "cell_type": "markdown",
   "metadata": {},
   "source": [
    "# Associated SQL\n",
    "\n",
    "select title, units_sold, price, (retail_price - price) discount, uses_ad_boosts, rating, merchant_rating from summer-products"
   ]
  },
  {
   "cell_type": "markdown",
   "metadata": {},
   "source": [
    "<b> A: Import Dataset and Libraries </b>"
   ]
  },
  {
   "cell_type": "code",
   "execution_count": 1,
   "metadata": {},
   "outputs": [],
   "source": [
    "import matplotlib.pyplot as plt\n",
    "import pandas as pd\n",
    "import numpy as np\n",
    "import seaborn as sns\n",
    "import statistics as stats\n",
    "from sklearn.linear_model import LinearRegression\n",
    "from sklearn.pipeline import Pipeline\n",
    "from sklearn.preprocessing import StandardScaler\n",
    "from sklearn.preprocessing import PolynomialFeatures\n",
    "from sklearn.metrics import r2_score\n",
    "from sklearn.linear_model import Ridge\n",
    "import statsmodels.api as sm"
   ]
  },
  {
   "cell_type": "code",
   "execution_count": 2,
   "metadata": {},
   "outputs": [],
   "source": [
    "df = pd.read_csv('/Users/naasirhaleem/Desktop/Kaggle Projects/Wish/intermediate_csvs/Correlation/wishcorrelation.csv')"
   ]
  },
  {
   "cell_type": "code",
   "execution_count": 3,
   "metadata": {},
   "outputs": [
    {
     "data": {
      "text/html": [
       "<div>\n",
       "<style scoped>\n",
       "    .dataframe tbody tr th:only-of-type {\n",
       "        vertical-align: middle;\n",
       "    }\n",
       "\n",
       "    .dataframe tbody tr th {\n",
       "        vertical-align: top;\n",
       "    }\n",
       "\n",
       "    .dataframe thead th {\n",
       "        text-align: right;\n",
       "    }\n",
       "</style>\n",
       "<table border=\"1\" class=\"dataframe\">\n",
       "  <thead>\n",
       "    <tr style=\"text-align: right;\">\n",
       "      <th></th>\n",
       "      <th>title</th>\n",
       "      <th>units_sold</th>\n",
       "      <th>price</th>\n",
       "      <th>discount</th>\n",
       "      <th>uses_ad_boosts</th>\n",
       "      <th>rating</th>\n",
       "      <th>merchant_rating</th>\n",
       "    </tr>\n",
       "  </thead>\n",
       "  <tbody>\n",
       "    <tr>\n",
       "      <th>0</th>\n",
       "      <td>2020 Summer Vintage Flamingo Print  Pajamas Se...</td>\n",
       "      <td>100</td>\n",
       "      <td>16.00</td>\n",
       "      <td>-2.00</td>\n",
       "      <td>0</td>\n",
       "      <td>3.76</td>\n",
       "      <td>4.128521</td>\n",
       "    </tr>\n",
       "    <tr>\n",
       "      <th>1</th>\n",
       "      <td>SSHOUSE Summer Casual Sleeveless Soirée Party ...</td>\n",
       "      <td>20000</td>\n",
       "      <td>8.00</td>\n",
       "      <td>14.00</td>\n",
       "      <td>1</td>\n",
       "      <td>3.45</td>\n",
       "      <td>3.899673</td>\n",
       "    </tr>\n",
       "    <tr>\n",
       "      <th>2</th>\n",
       "      <td>2020 Nouvelle Arrivée Femmes Printemps et Été ...</td>\n",
       "      <td>100</td>\n",
       "      <td>8.00</td>\n",
       "      <td>35.00</td>\n",
       "      <td>0</td>\n",
       "      <td>3.57</td>\n",
       "      <td>3.989831</td>\n",
       "    </tr>\n",
       "    <tr>\n",
       "      <th>3</th>\n",
       "      <td>Hot Summer Cool T-shirt pour les femmes Mode T...</td>\n",
       "      <td>5000</td>\n",
       "      <td>8.00</td>\n",
       "      <td>0.00</td>\n",
       "      <td>1</td>\n",
       "      <td>4.03</td>\n",
       "      <td>4.020435</td>\n",
       "    </tr>\n",
       "    <tr>\n",
       "      <th>4</th>\n",
       "      <td>Femmes Shorts d'été à lacets taille élastique ...</td>\n",
       "      <td>100</td>\n",
       "      <td>2.72</td>\n",
       "      <td>0.28</td>\n",
       "      <td>1</td>\n",
       "      <td>3.10</td>\n",
       "      <td>4.001588</td>\n",
       "    </tr>\n",
       "  </tbody>\n",
       "</table>\n",
       "</div>"
      ],
      "text/plain": [
       "                                               title  units_sold  price  \\\n",
       "0  2020 Summer Vintage Flamingo Print  Pajamas Se...         100  16.00   \n",
       "1  SSHOUSE Summer Casual Sleeveless Soirée Party ...       20000   8.00   \n",
       "2  2020 Nouvelle Arrivée Femmes Printemps et Été ...         100   8.00   \n",
       "3  Hot Summer Cool T-shirt pour les femmes Mode T...        5000   8.00   \n",
       "4  Femmes Shorts d'été à lacets taille élastique ...         100   2.72   \n",
       "\n",
       "   discount  uses_ad_boosts  rating  merchant_rating  \n",
       "0     -2.00               0    3.76         4.128521  \n",
       "1     14.00               1    3.45         3.899673  \n",
       "2     35.00               0    3.57         3.989831  \n",
       "3      0.00               1    4.03         4.020435  \n",
       "4      0.28               1    3.10         4.001588  "
      ]
     },
     "execution_count": 3,
     "metadata": {},
     "output_type": "execute_result"
    }
   ],
   "source": [
    "df.head()"
   ]
  },
  {
   "cell_type": "markdown",
   "metadata": {},
   "source": [
    "<b> B: Visualize Units solds as they relate to Price </b>"
   ]
  },
  {
   "cell_type": "code",
   "execution_count": null,
   "metadata": {},
   "outputs": [],
   "source": [
    "sns.regplot(x = \"price\", y = \"units_sold\", data = df)"
   ]
  },
  {
   "cell_type": "markdown",
   "metadata": {},
   "source": [
    "<b> Note: Seems like weak negative correlation which would make sense but need to actually visualize it </b>"
   ]
  },
  {
   "cell_type": "code",
   "execution_count": null,
   "metadata": {},
   "outputs": [],
   "source": [
    "df.corr()"
   ]
  },
  {
   "cell_type": "markdown",
   "metadata": {},
   "source": [
    "<b> Note: It does not appear that any of these factors have a strong effect on units sold. Lets move on to the multilinear regression and polynomial regression. </b>"
   ]
  },
  {
   "cell_type": "markdown",
   "metadata": {},
   "source": [
    "# Step 2: Create Multilinear Regression and Polynomial Regression\n",
    "<b> Why: </b> I am performing multilinear regression and polynomial regression in order to create a model that will reliably predict units sold based on these factors. \n",
    "\n",
    "<b> How: </b> Going to use sklearn module"
   ]
  },
  {
   "cell_type": "markdown",
   "metadata": {},
   "source": [
    "# Associated SQL\n",
    "<b> MLR and PR 1:</b> select title, units_sold, price, (retail_price - price) discount, uses_ad_boosts, rating_count, merchant_rating_count, rating, merchant_rating, rating_five_count,product_variation_inventory, shipping_option_price, countries_shipped_to, has_urgency_banner from summer-products\n",
    "\n",
    "<b> MLR and PR 2: </b>  select units_sold, (retail_price - price) discount, uses_ad_boosts, rating_count, merchant_rating_count, product_variation_inventory,  has_urgency_banner from summer-products"
   ]
  },
  {
   "cell_type": "markdown",
   "metadata": {},
   "source": [
    "<b> A: Initiate Linear Regression </b>"
   ]
  },
  {
   "cell_type": "code",
   "execution_count": 15,
   "metadata": {},
   "outputs": [],
   "source": [
    "lm = LinearRegression()"
   ]
  },
  {
   "cell_type": "markdown",
   "metadata": {},
   "source": [
    "<b> A1: Want to test against merchant rating to see if that yields anything </b>"
   ]
  },
  {
   "cell_type": "code",
   "execution_count": null,
   "metadata": {},
   "outputs": [],
   "source": [
    "lm.fit(df[['merchant_rating']],df['units_sold'])"
   ]
  },
  {
   "cell_type": "code",
   "execution_count": null,
   "metadata": {},
   "outputs": [],
   "source": [
    "lm.score(df[['merchant_rating']],df['units_sold'])"
   ]
  },
  {
   "cell_type": "markdown",
   "metadata": {},
   "source": [
    "<b> Note: R^2 here is about 2% so not terribly interesting since only 2% of data is being explained by merchant rating </b>"
   ]
  },
  {
   "cell_type": "markdown",
   "metadata": {},
   "source": [
    "<b> B: Group all of factors </b>"
   ]
  },
  {
   "cell_type": "code",
   "execution_count": null,
   "metadata": {},
   "outputs": [],
   "source": [
    "Z = df[['price','discount','uses_ad_boosts','rating','merchant_rating']]"
   ]
  },
  {
   "cell_type": "markdown",
   "metadata": {},
   "source": [
    "<b> C: Run Regression </b>"
   ]
  },
  {
   "cell_type": "code",
   "execution_count": null,
   "metadata": {},
   "outputs": [],
   "source": [
    "lm.fit(Z, df['units_sold'])"
   ]
  },
  {
   "cell_type": "code",
   "execution_count": null,
   "metadata": {},
   "outputs": [],
   "source": [
    "a = lm.intercept_"
   ]
  },
  {
   "cell_type": "code",
   "execution_count": null,
   "metadata": {},
   "outputs": [],
   "source": [
    "b = lm.coef_"
   ]
  },
  {
   "cell_type": "code",
   "execution_count": null,
   "metadata": {},
   "outputs": [],
   "source": [
    "lm.fit(Z, df['units_sold'])"
   ]
  },
  {
   "cell_type": "code",
   "execution_count": null,
   "metadata": {},
   "outputs": [],
   "source": [
    "c = lm.score(Z, df['units_sold'])"
   ]
  },
  {
   "cell_type": "code",
   "execution_count": null,
   "metadata": {},
   "outputs": [],
   "source": [
    "print('Model is:',a,'+',b[0],'*price +',b[1],'*discount +',b[2],'*uses_ad_boosts +',b[3],'*rating +',b[4],'*merchant_rating')\n",
    "print('R^2 is',c )"
   ]
  },
  {
   "cell_type": "markdown",
   "metadata": {},
   "source": [
    "The model is shown here but my R^2 is extremely low. We'll see if a polynomial regression will work better. If not, then there may be more data cutting required."
   ]
  },
  {
   "cell_type": "markdown",
   "metadata": {},
   "source": [
    "<b> A: Inititate Pipeline and Polynomial Regression </b>"
   ]
  },
  {
   "cell_type": "code",
   "execution_count": 12,
   "metadata": {},
   "outputs": [
    {
     "data": {
      "text/plain": [
       "PolynomialFeatures(degree=2, include_bias=True, interaction_only=False)"
      ]
     },
     "execution_count": 12,
     "metadata": {},
     "output_type": "execute_result"
    }
   ],
   "source": [
    "pr=PolynomialFeatures(degree=2)\n",
    "pr"
   ]
  },
  {
   "cell_type": "code",
   "execution_count": 13,
   "metadata": {},
   "outputs": [
    {
     "ename": "NameError",
     "evalue": "name 'Z' is not defined",
     "output_type": "error",
     "traceback": [
      "\u001b[0;31m---------------------------------------------------------------------------\u001b[0m",
      "\u001b[0;31mNameError\u001b[0m                                 Traceback (most recent call last)",
      "\u001b[0;32m<ipython-input-13-cc0a37916af1>\u001b[0m in \u001b[0;36m<module>\u001b[0;34m\u001b[0m\n\u001b[0;32m----> 1\u001b[0;31m \u001b[0mZ_pr\u001b[0m\u001b[0;34m=\u001b[0m\u001b[0mpr\u001b[0m\u001b[0;34m.\u001b[0m\u001b[0mfit_transform\u001b[0m\u001b[0;34m(\u001b[0m\u001b[0mZ\u001b[0m\u001b[0;34m)\u001b[0m\u001b[0;34m\u001b[0m\u001b[0;34m\u001b[0m\u001b[0m\n\u001b[0m",
      "\u001b[0;31mNameError\u001b[0m: name 'Z' is not defined"
     ]
    }
   ],
   "source": [
    "Z_pr=pr.fit_transform(Z)"
   ]
  },
  {
   "cell_type": "code",
   "execution_count": 14,
   "metadata": {},
   "outputs": [],
   "source": [
    "Input=[('scale',StandardScaler()), ('polynomial', PolynomialFeatures(include_bias=False)), ('model',LinearRegression())]"
   ]
  },
  {
   "cell_type": "code",
   "execution_count": null,
   "metadata": {},
   "outputs": [],
   "source": [
    "pipe=Pipeline(Input)\n",
    "pipe"
   ]
  },
  {
   "cell_type": "code",
   "execution_count": null,
   "metadata": {},
   "outputs": [],
   "source": [
    "y = df['units_sold']"
   ]
  },
  {
   "cell_type": "code",
   "execution_count": null,
   "metadata": {},
   "outputs": [],
   "source": [
    "pipe.fit(Z,y)"
   ]
  },
  {
   "cell_type": "markdown",
   "metadata": {},
   "source": [
    "<b> B: Run Regression </b>"
   ]
  },
  {
   "cell_type": "code",
   "execution_count": null,
   "metadata": {},
   "outputs": [],
   "source": [
    "ypipe=pipe.predict(Z)\n",
    "ypipe"
   ]
  },
  {
   "cell_type": "markdown",
   "metadata": {},
   "source": [
    "<b> C: Check R^2 </b>"
   ]
  },
  {
   "cell_type": "code",
   "execution_count": null,
   "metadata": {},
   "outputs": [],
   "source": [
    "pipe.score(Z,y)"
   ]
  },
  {
   "cell_type": "markdown",
   "metadata": {},
   "source": [
    "<b> Note: This R^2 accounts for more of the data than before so a polynomial regression will help. </b>"
   ]
  },
  {
   "cell_type": "markdown",
   "metadata": {},
   "source": [
    "<b> E: Read in another dataset with more factors passed in </b>"
   ]
  },
  {
   "cell_type": "code",
   "execution_count": 20,
   "metadata": {},
   "outputs": [],
   "source": [
    "dff = pd.read_csv('/Users/naasirhaleem/Desktop/Kaggle Projects/Wish/intermediate_csvs/Correlation/wishcorrelation2.csv')"
   ]
  },
  {
   "cell_type": "markdown",
   "metadata": {},
   "source": [
    "<b> Note: Have to replace any NULLS so that they do not affect regressions </b>"
   ]
  },
  {
   "cell_type": "code",
   "execution_count": 21,
   "metadata": {},
   "outputs": [],
   "source": [
    "dff[\"has_urgency_banner\"].replace(np.nan,0, inplace = True)\n",
    "dff[\"rating_five_count\"].replace(np.nan,0,inplace = True)"
   ]
  },
  {
   "cell_type": "code",
   "execution_count": null,
   "metadata": {},
   "outputs": [],
   "source": [
    "dff.describe()"
   ]
  },
  {
   "cell_type": "markdown",
   "metadata": {},
   "source": [
    "<b> E: Correlation Table </b>"
   ]
  },
  {
   "cell_type": "code",
   "execution_count": null,
   "metadata": {},
   "outputs": [],
   "source": [
    "dff.corr()"
   ]
  },
  {
   "cell_type": "markdown",
   "metadata": {},
   "source": [
    "<b> Note: Very strong correlation between rating count and units sold. This is obvious because intuitively the more units that are sold, the greater the number of reviews. </b>"
   ]
  },
  {
   "cell_type": "code",
   "execution_count": null,
   "metadata": {},
   "outputs": [],
   "source": [
    "Z = dff[['price', 'discount', 'uses_ad_boosts', 'rating_count', 'merchant_rating_count','rating', 'merchant_rating', 'rating_five_count','product_variation_inventory', 'shipping_option_price', 'countries_shipped_to', 'has_urgency_banner']]"
   ]
  },
  {
   "cell_type": "markdown",
   "metadata": {},
   "source": [
    "<b> F: Multilinear Regression II </b>"
   ]
  },
  {
   "cell_type": "code",
   "execution_count": null,
   "metadata": {},
   "outputs": [],
   "source": [
    "lm.fit(Z,a)"
   ]
  },
  {
   "cell_type": "code",
   "execution_count": null,
   "metadata": {},
   "outputs": [],
   "source": [
    "lm.score(Z,a)"
   ]
  },
  {
   "cell_type": "markdown",
   "metadata": {},
   "source": [
    "<b> Note: Doing MLR barely increased our R^2 but it did increase it nevertheless. </b>"
   ]
  },
  {
   "cell_type": "markdown",
   "metadata": {},
   "source": [
    "<b> G: OLS Table (Just wanted to see whether my p-values are out of whack)</b>"
   ]
  },
  {
   "cell_type": "code",
   "execution_count": null,
   "metadata": {},
   "outputs": [],
   "source": [
    "X = Z\n",
    "y = a\n",
    "X2 = sm.add_constant(X)\n",
    "est = sm.OLS(y, X2)\n",
    "est2 = est.fit()\n",
    "print(est2.summary())"
   ]
  },
  {
   "cell_type": "markdown",
   "metadata": {},
   "source": [
    "<b> Note: As we can see from above there is a warning that there is a multicollinearity problem. I already knew this, again because it stands to reason that rating_count, merchant_rating_count, and rating_five_count will all naturally increase as the units shipped increases. </b>\n",
    "\n",
    "<b> What's more interesting </b> is that there are a few variables that are statistically significant here that were not quite that obvious before.\n",
    "\n",
    "These variables are:\n",
    "\n",
    "Discount\n",
    "\n",
    "Uses Ad Boosts\n",
    "\n",
    "Product Variation Inventory\n",
    "\n",
    "Has Urgency Banner\n",
    "\n",
    "<b> My interpretation: </b> I should conduct a MLR and Polynomial Regression again and this time only include these values in addition to the rating counts"
   ]
  },
  {
   "cell_type": "markdown",
   "metadata": {},
   "source": [
    "<b> H: Multilinear Regression III </b>"
   ]
  },
  {
   "cell_type": "code",
   "execution_count": 22,
   "metadata": {},
   "outputs": [],
   "source": [
    "ZZ = dff[['discount', 'uses_ad_boosts', 'rating_count', 'merchant_rating_count','product_variation_inventory','has_urgency_banner']]"
   ]
  },
  {
   "cell_type": "code",
   "execution_count": 23,
   "metadata": {},
   "outputs": [],
   "source": [
    "aa = dff['units_sold']"
   ]
  },
  {
   "cell_type": "code",
   "execution_count": 24,
   "metadata": {},
   "outputs": [
    {
     "data": {
      "text/plain": [
       "LinearRegression(copy_X=True, fit_intercept=True, n_jobs=None,\n",
       "         normalize=False)"
      ]
     },
     "execution_count": 24,
     "metadata": {},
     "output_type": "execute_result"
    }
   ],
   "source": [
    "lm.fit(ZZ,aa)"
   ]
  },
  {
   "cell_type": "code",
   "execution_count": 25,
   "metadata": {},
   "outputs": [
    {
     "data": {
      "text/plain": [
       "0.813156315814829"
      ]
     },
     "execution_count": 25,
     "metadata": {},
     "output_type": "execute_result"
    }
   ],
   "source": [
    "lm.score(ZZ,aa)"
   ]
  },
  {
   "cell_type": "code",
   "execution_count": 26,
   "metadata": {},
   "outputs": [],
   "source": [
    "a = lm.intercept_\n",
    "b = lm.coef_"
   ]
  },
  {
   "cell_type": "code",
   "execution_count": 27,
   "metadata": {},
   "outputs": [
    {
     "name": "stdout",
     "output_type": "stream",
     "text": [
      "Model is: 328.41944350052563  + discount* -11.382388703555067  + uses_ad_boosts* 443.4536185721469  + rating_count* 4.1932176580775  + merchant_rating_count* 0.005062329140738299  + product_variation_inventory* 7.572628639902614  + has_urgency_banner* -419.8878762214729\n",
      "R^2 is 0.813156315814829\n"
     ]
    }
   ],
   "source": [
    "print('Model is:',a,' + discount*',b[0],' + uses_ad_boosts*',b[1],' + rating_count*',b[2],' + merchant_rating_count*',b[3],' + product_variation_inventory*',b[4],' + has_urgency_banner*',b[5])\n",
    "print('R^2 is',lm.score(ZZ,aa))"
   ]
  },
  {
   "cell_type": "markdown",
   "metadata": {},
   "source": [
    "<b> Note: Also want to visualize the data through a distribution plot </b>"
   ]
  },
  {
   "cell_type": "code",
   "execution_count": null,
   "metadata": {},
   "outputs": [],
   "source": [
    "yhat = lm.predict(ZZ)"
   ]
  },
  {
   "cell_type": "code",
   "execution_count": null,
   "metadata": {},
   "outputs": [],
   "source": [
    "width = 12\n",
    "height = 10\n",
    "plt.figure(figsize=(width, height))\n",
    "\n",
    "\n",
    "ax1 = sns.distplot(dff['units_sold'], hist=False, color=\"r\", label=\"Actual Value\")\n",
    "sns.distplot(yhat, hist=False, color=\"b\", label=\"Fitted Values\" , ax=ax1)\n",
    "\n",
    "\n",
    "plt.title('Actual vs Fitted Values for Units Sold')\n",
    "plt.xlabel('Units Sold')\n",
    "plt.ylabel('Proportion of Summer Clothes')\n",
    "\n",
    "plt.show()"
   ]
  },
  {
   "cell_type": "markdown",
   "metadata": {},
   "source": [
    "<b> I: Polynomial Regression II </b>"
   ]
  },
  {
   "cell_type": "code",
   "execution_count": 28,
   "metadata": {},
   "outputs": [],
   "source": [
    "pr=PolynomialFeatures(degree=2)\n",
    "Z_pr=pr.fit_transform(ZZ)\n",
    "Input=[('scale',StandardScaler()), ('polynomial', PolynomialFeatures(include_bias=False)), ('model',LinearRegression())]\n",
    "pipe=Pipeline(Input)\n",
    "aa = df['units_sold']"
   ]
  },
  {
   "cell_type": "code",
   "execution_count": 29,
   "metadata": {},
   "outputs": [
    {
     "name": "stderr",
     "output_type": "stream",
     "text": [
      "/Users/naasirhaleem/anaconda3/lib/python3.7/site-packages/sklearn/preprocessing/data.py:625: DataConversionWarning: Data with input dtype int64, float64 were all converted to float64 by StandardScaler.\n",
      "  return self.partial_fit(X, y)\n",
      "/Users/naasirhaleem/anaconda3/lib/python3.7/site-packages/sklearn/base.py:465: DataConversionWarning: Data with input dtype int64, float64 were all converted to float64 by StandardScaler.\n",
      "  return self.fit(X, y, **fit_params).transform(X)\n"
     ]
    },
    {
     "data": {
      "text/plain": [
       "Pipeline(memory=None,\n",
       "     steps=[('scale', StandardScaler(copy=True, with_mean=True, with_std=True)), ('polynomial', PolynomialFeatures(degree=2, include_bias=False, interaction_only=False)), ('model', LinearRegression(copy_X=True, fit_intercept=True, n_jobs=None,\n",
       "         normalize=False))])"
      ]
     },
     "execution_count": 29,
     "metadata": {},
     "output_type": "execute_result"
    }
   ],
   "source": [
    "pipe.fit(ZZ,aa)"
   ]
  },
  {
   "cell_type": "code",
   "execution_count": 30,
   "metadata": {},
   "outputs": [
    {
     "name": "stderr",
     "output_type": "stream",
     "text": [
      "/Users/naasirhaleem/anaconda3/lib/python3.7/site-packages/sklearn/pipeline.py:331: DataConversionWarning: Data with input dtype int64, float64 were all converted to float64 by StandardScaler.\n",
      "  Xt = transform.transform(Xt)\n"
     ]
    }
   ],
   "source": [
    "ypipe=pipe.predict(ZZ)"
   ]
  },
  {
   "cell_type": "code",
   "execution_count": 31,
   "metadata": {},
   "outputs": [
    {
     "name": "stderr",
     "output_type": "stream",
     "text": [
      "/Users/naasirhaleem/anaconda3/lib/python3.7/site-packages/sklearn/pipeline.py:511: DataConversionWarning: Data with input dtype int64, float64 were all converted to float64 by StandardScaler.\n",
      "  Xt = transform.transform(Xt)\n"
     ]
    },
    {
     "data": {
      "text/plain": [
       "0.8394708588418742"
      ]
     },
     "execution_count": 31,
     "metadata": {},
     "output_type": "execute_result"
    }
   ],
   "source": [
    "pipe.score(ZZ,aa)"
   ]
  },
  {
   "cell_type": "markdown",
   "metadata": {},
   "source": [
    "<b> Note: The Polynomial Regression actually fits this Regression better so I will stick with it </b>"
   ]
  },
  {
   "cell_type": "code",
   "execution_count": null,
   "metadata": {},
   "outputs": [],
   "source": [
    "width = 12\n",
    "height = 10\n",
    "plt.figure(figsize=(width, height))\n",
    "\n",
    "\n",
    "ax1 = sns.distplot(dff['units_sold'], hist=False, color=\"r\", label=\"Actual Value\")\n",
    "sns.distplot(ypipe, hist=False, color=\"b\", label=\"Fitted Values\" , ax=ax1)\n",
    "\n",
    "\n",
    "plt.title('Actual vs Fitted Values for Units Sold')\n",
    "plt.xlabel('Units Sold')\n",
    "plt.ylabel('Proportion of Summer Clothes')\n",
    "\n",
    "plt.show()"
   ]
  },
  {
   "cell_type": "markdown",
   "metadata": {},
   "source": [
    "<b> The Coefficients for the Model are as follows. Still trying to figure out how to write the whole thing. </b>"
   ]
  },
  {
   "cell_type": "code",
   "execution_count": 32,
   "metadata": {},
   "outputs": [],
   "source": [
    "b1 = ypipe[0]\n",
    "b2 = ypipe[1]\n",
    "b3 = ypipe[2]\n",
    "b4 = ypipe[3]\n",
    "b5 = ypipe[4]\n",
    "b6 = ypipe[5]"
   ]
  },
  {
   "cell_type": "code",
   "execution_count": 33,
   "metadata": {},
   "outputs": [
    {
     "name": "stdout",
     "output_type": "stream",
     "text": [
      "discount: 1255.25\n",
      "uses_ad_boosts: 26910.875\n",
      "rating_count: -5.0\n",
      "merchant_rating_count: 3408.4375\n",
      "product_variation_inventory: 377.125\n",
      "has_urgency_banner: 129.6875\n"
     ]
    }
   ],
   "source": [
    "\n",
    "print('discount:',b1)\n",
    "print('uses_ad_boosts:',b2)\n",
    "print('rating_count:',b3)\n",
    "print('merchant_rating_count:',b4)\n",
    "print('product_variation_inventory:',b5)\n",
    "print('has_urgency_banner:',b6)"
   ]
  },
  {
   "cell_type": "markdown",
   "metadata": {},
   "source": [
    "# Step 3: Binning and Measuring Effect of Color of Clothes on Sales\n",
    "\n",
    "<b> Why: </b> I am going to separate out clothes by color to determine whether there is a consumer preference for a certain color. Then I will run a simple regression to see if that color is significantly preferred in comparison to other colors.\n",
    "\n",
    "<b> How: </b> I will do this by first going into SQL and slicing a dataset in order to get the 10 most common colors. Then I will use various binning techniques in Jupyter. I will also see what type of plots will be helpful in determining this. "
   ]
  },
  {
   "cell_type": "markdown",
   "metadata": {},
   "source": [
    "# Associated SQL\n",
    "\n",
    "<b>Understanding which colors were top 10 in sales: </b>\n",
    "\n",
    "select TOP 10 product_color, count(product_color)product_color_count,sum(units_sold) color_units_sold, sum(price) color_price from summer-products\n",
    "group by product_color\n",
    "order by product_color_count desc\n",
    "\n",
    "<b>Color Binning: </b>\n",
    "\n",
    "Alter Table dbo.summer-products ADD ColorBin int GO\n",
    "\n",
    "Update summer-products SET summer-products.ColorBin = case\n",
    "When product_color = 'black' then 1\n",
    "When product_color = 'white' then 2\n",
    "When product_color = 'yellow' then 3\n",
    "When product_color = 'pink' then 4\n",
    "When product_color = 'blue' then 5\n",
    "When product_color = 'red' then 6\n",
    "When product_color = 'green' then 7\n",
    "When product_color = 'grey' then 8\n",
    "When product_color = 'purple' then 9\n",
    "When product_color = 'armygreen' then 10\n",
    "else 11\n",
    "\n",
    "End\n",
    "\n",
    "\n",
    "<b>Understand which colors have highest average number of units sold: </b>\n",
    "\n",
    "select ColorBin, sum(units_sold) color_units_sold, avg(units_sold) color_average_sold from summer-products\n",
    "Where ColorBin != 11\n",
    "Group by ColorBin\n",
    "Order by color_average_sold desc\n",
    "\n",
    "\n",
    "Note: We can see here that the top 5 in terms of average are purple, grey, black, white, and blue\n",
    "I'll make dummies of those 5 to see what their effects are on prices\n",
    "\n",
    "<b> Creating Dummies of top average selling colors: </b>\n",
    "\n",
    "Alter Table [dbo].[summer-products]\n",
    "ADD is_purple int\n",
    "ADD is_grey int\n",
    "ADD is_black int\n",
    "ADD is_white int\n",
    "ADD is_blue int\n",
    "\n",
    "GO\n",
    "\n",
    "Update [summer-products] SET [summer-products].[is_grey] = case\n",
    "When ColorBin = 8 then 1\n",
    "else 0\n",
    "END\n",
    "\n",
    "Update [summer-products] SET [summer-products].[is_black] = case\n",
    "When ColorBin = 1 then 1\n",
    "else 0\n",
    "END\n",
    "\n",
    "Update [summer-products] SET [summer-products].[is_white] = case\n",
    "When ColorBin = 2 then 1\n",
    "else 0\n",
    "END\n",
    "\n",
    "Update [summer-products] SET [summer-products].[is_blue] = case\n",
    "When ColorBin = 5 then 1\n",
    "else 0\n",
    "END\n",
    "\n",
    "Update [summer-products] SET [summer-products].[is_purple] = case\n",
    "When ColorBin = 9 then 1\n",
    "else 0\n",
    "END\n",
    "\n",
    "select units_sold, (retail_price - price) discount, uses_ad_boosts, rating_count, merchant_rating_count, \n",
    "product_variation_inventory,  has_urgency_banner, product_color, ColorBin, is_black, is_grey, is_purple, is_white, is_blue from summer-products    "
   ]
  },
  {
   "cell_type": "markdown",
   "metadata": {},
   "source": [
    "# Process"
   ]
  },
  {
   "cell_type": "markdown",
   "metadata": {},
   "source": [
    "<b> A: Read in csv </b>"
   ]
  },
  {
   "cell_type": "code",
   "execution_count": 34,
   "metadata": {},
   "outputs": [],
   "source": [
    "cf = pd.read_csv('/Users/naasirhaleem/Desktop/Kaggle Projects/Wish/intermediate_csvs/Color/Color2.csv')"
   ]
  },
  {
   "cell_type": "code",
   "execution_count": 35,
   "metadata": {},
   "outputs": [],
   "source": [
    "cf = cf[cf['ColorBin'] != 11]"
   ]
  },
  {
   "cell_type": "code",
   "execution_count": 36,
   "metadata": {},
   "outputs": [
    {
     "data": {
      "text/html": [
       "<div>\n",
       "<style scoped>\n",
       "    .dataframe tbody tr th:only-of-type {\n",
       "        vertical-align: middle;\n",
       "    }\n",
       "\n",
       "    .dataframe tbody tr th {\n",
       "        vertical-align: top;\n",
       "    }\n",
       "\n",
       "    .dataframe thead th {\n",
       "        text-align: right;\n",
       "    }\n",
       "</style>\n",
       "<table border=\"1\" class=\"dataframe\">\n",
       "  <thead>\n",
       "    <tr style=\"text-align: right;\">\n",
       "      <th></th>\n",
       "      <th>units_sold</th>\n",
       "      <th>price</th>\n",
       "      <th>discount</th>\n",
       "      <th>uses_ad_boosts</th>\n",
       "      <th>rating_count</th>\n",
       "      <th>merchant_rating_count</th>\n",
       "      <th>rating</th>\n",
       "      <th>merchant_rating</th>\n",
       "      <th>rating_five_count</th>\n",
       "      <th>product_variation_inventory</th>\n",
       "      <th>shipping_option_price</th>\n",
       "      <th>countries_shipped_to</th>\n",
       "      <th>has_urgency_banner</th>\n",
       "      <th>ColorBin</th>\n",
       "    </tr>\n",
       "  </thead>\n",
       "  <tbody>\n",
       "    <tr>\n",
       "      <th>count</th>\n",
       "      <td>1207.000000</td>\n",
       "      <td>1207.000000</td>\n",
       "      <td>1207.000000</td>\n",
       "      <td>1207.000000</td>\n",
       "      <td>1207.000000</td>\n",
       "      <td>1.207000e+03</td>\n",
       "      <td>1207.000000</td>\n",
       "      <td>1207.000000</td>\n",
       "      <td>1172.000000</td>\n",
       "      <td>1207.000000</td>\n",
       "      <td>1207.000000</td>\n",
       "      <td>1207.000000</td>\n",
       "      <td>368.0</td>\n",
       "      <td>1207.000000</td>\n",
       "    </tr>\n",
       "    <tr>\n",
       "      <th>mean</th>\n",
       "      <td>4130.657829</td>\n",
       "      <td>8.162974</td>\n",
       "      <td>14.933132</td>\n",
       "      <td>0.428335</td>\n",
       "      <td>867.460646</td>\n",
       "      <td>2.685009e+04</td>\n",
       "      <td>3.812461</td>\n",
       "      <td>4.026353</td>\n",
       "      <td>431.831058</td>\n",
       "      <td>33.154101</td>\n",
       "      <td>2.301574</td>\n",
       "      <td>40.741508</td>\n",
       "      <td>1.0</td>\n",
       "      <td>3.800331</td>\n",
       "    </tr>\n",
       "    <tr>\n",
       "      <th>std</th>\n",
       "      <td>8598.938507</td>\n",
       "      <td>3.624832</td>\n",
       "      <td>30.049323</td>\n",
       "      <td>0.495043</td>\n",
       "      <td>1963.340327</td>\n",
       "      <td>8.214522e+04</td>\n",
       "      <td>0.530819</td>\n",
       "      <td>0.206565</td>\n",
       "      <td>984.081239</td>\n",
       "      <td>21.341559</td>\n",
       "      <td>0.946420</td>\n",
       "      <td>20.233204</td>\n",
       "      <td>0.0</td>\n",
       "      <td>2.684777</td>\n",
       "    </tr>\n",
       "    <tr>\n",
       "      <th>min</th>\n",
       "      <td>1.000000</td>\n",
       "      <td>1.000000</td>\n",
       "      <td>-3.000000</td>\n",
       "      <td>0.000000</td>\n",
       "      <td>0.000000</td>\n",
       "      <td>3.000000e+00</td>\n",
       "      <td>1.000000</td>\n",
       "      <td>2.333333</td>\n",
       "      <td>0.000000</td>\n",
       "      <td>1.000000</td>\n",
       "      <td>1.000000</td>\n",
       "      <td>6.000000</td>\n",
       "      <td>1.0</td>\n",
       "      <td>1.000000</td>\n",
       "    </tr>\n",
       "    <tr>\n",
       "      <th>25%</th>\n",
       "      <td>100.000000</td>\n",
       "      <td>5.790000</td>\n",
       "      <td>-1.000000</td>\n",
       "      <td>0.000000</td>\n",
       "      <td>22.500000</td>\n",
       "      <td>1.945500e+03</td>\n",
       "      <td>3.530000</td>\n",
       "      <td>3.914894</td>\n",
       "      <td>11.000000</td>\n",
       "      <td>6.000000</td>\n",
       "      <td>2.000000</td>\n",
       "      <td>32.000000</td>\n",
       "      <td>1.0</td>\n",
       "      <td>1.000000</td>\n",
       "    </tr>\n",
       "    <tr>\n",
       "      <th>50%</th>\n",
       "      <td>1000.000000</td>\n",
       "      <td>8.000000</td>\n",
       "      <td>0.190000</td>\n",
       "      <td>0.000000</td>\n",
       "      <td>144.000000</td>\n",
       "      <td>8.166000e+03</td>\n",
       "      <td>3.830000</td>\n",
       "      <td>4.039495</td>\n",
       "      <td>78.000000</td>\n",
       "      <td>50.000000</td>\n",
       "      <td>2.000000</td>\n",
       "      <td>40.000000</td>\n",
       "      <td>1.0</td>\n",
       "      <td>3.000000</td>\n",
       "    </tr>\n",
       "    <tr>\n",
       "      <th>75%</th>\n",
       "      <td>5000.000000</td>\n",
       "      <td>11.000000</td>\n",
       "      <td>17.000000</td>\n",
       "      <td>1.000000</td>\n",
       "      <td>856.000000</td>\n",
       "      <td>2.515750e+04</td>\n",
       "      <td>4.110000</td>\n",
       "      <td>4.156691</td>\n",
       "      <td>397.000000</td>\n",
       "      <td>50.000000</td>\n",
       "      <td>3.000000</td>\n",
       "      <td>43.000000</td>\n",
       "      <td>1.0</td>\n",
       "      <td>6.000000</td>\n",
       "    </tr>\n",
       "    <tr>\n",
       "      <th>max</th>\n",
       "      <td>100000.000000</td>\n",
       "      <td>26.000000</td>\n",
       "      <td>244.000000</td>\n",
       "      <td>1.000000</td>\n",
       "      <td>20744.000000</td>\n",
       "      <td>2.174765e+06</td>\n",
       "      <td>5.000000</td>\n",
       "      <td>4.577519</td>\n",
       "      <td>11548.000000</td>\n",
       "      <td>50.000000</td>\n",
       "      <td>7.000000</td>\n",
       "      <td>140.000000</td>\n",
       "      <td>1.0</td>\n",
       "      <td>10.000000</td>\n",
       "    </tr>\n",
       "  </tbody>\n",
       "</table>\n",
       "</div>"
      ],
      "text/plain": [
       "          units_sold        price     discount  uses_ad_boosts  rating_count  \\\n",
       "count    1207.000000  1207.000000  1207.000000     1207.000000   1207.000000   \n",
       "mean     4130.657829     8.162974    14.933132        0.428335    867.460646   \n",
       "std      8598.938507     3.624832    30.049323        0.495043   1963.340327   \n",
       "min         1.000000     1.000000    -3.000000        0.000000      0.000000   \n",
       "25%       100.000000     5.790000    -1.000000        0.000000     22.500000   \n",
       "50%      1000.000000     8.000000     0.190000        0.000000    144.000000   \n",
       "75%      5000.000000    11.000000    17.000000        1.000000    856.000000   \n",
       "max    100000.000000    26.000000   244.000000        1.000000  20744.000000   \n",
       "\n",
       "       merchant_rating_count       rating  merchant_rating  rating_five_count  \\\n",
       "count           1.207000e+03  1207.000000      1207.000000        1172.000000   \n",
       "mean            2.685009e+04     3.812461         4.026353         431.831058   \n",
       "std             8.214522e+04     0.530819         0.206565         984.081239   \n",
       "min             3.000000e+00     1.000000         2.333333           0.000000   \n",
       "25%             1.945500e+03     3.530000         3.914894          11.000000   \n",
       "50%             8.166000e+03     3.830000         4.039495          78.000000   \n",
       "75%             2.515750e+04     4.110000         4.156691         397.000000   \n",
       "max             2.174765e+06     5.000000         4.577519       11548.000000   \n",
       "\n",
       "       product_variation_inventory  shipping_option_price  \\\n",
       "count                  1207.000000            1207.000000   \n",
       "mean                     33.154101               2.301574   \n",
       "std                      21.341559               0.946420   \n",
       "min                       1.000000               1.000000   \n",
       "25%                       6.000000               2.000000   \n",
       "50%                      50.000000               2.000000   \n",
       "75%                      50.000000               3.000000   \n",
       "max                      50.000000               7.000000   \n",
       "\n",
       "       countries_shipped_to  has_urgency_banner     ColorBin  \n",
       "count           1207.000000               368.0  1207.000000  \n",
       "mean              40.741508                 1.0     3.800331  \n",
       "std               20.233204                 0.0     2.684777  \n",
       "min                6.000000                 1.0     1.000000  \n",
       "25%               32.000000                 1.0     1.000000  \n",
       "50%               40.000000                 1.0     3.000000  \n",
       "75%               43.000000                 1.0     6.000000  \n",
       "max              140.000000                 1.0    10.000000  "
      ]
     },
     "execution_count": 36,
     "metadata": {},
     "output_type": "execute_result"
    }
   ],
   "source": [
    "cf.describe()"
   ]
  },
  {
   "cell_type": "code",
   "execution_count": 37,
   "metadata": {},
   "outputs": [
    {
     "data": {
      "text/plain": [
       "<matplotlib.axes._subplots.AxesSubplot at 0x7f8393c1c3c8>"
      ]
     },
     "execution_count": 37,
     "metadata": {},
     "output_type": "execute_result"
    },
    {
     "data": {
      "image/png": "[encoded data removed]",
      "text/plain": [
       "<Figure size 432x288 with 1 Axes>"
      ]
     },
     "metadata": {
      "needs_background": "light"
     },
     "output_type": "display_data"
    }
   ],
   "source": [
    "sns.boxplot(x = \"ColorBin\", y = \"units_sold\", data = cf)"
   ]
  },
  {
   "cell_type": "code",
   "execution_count": 38,
   "metadata": {},
   "outputs": [],
   "source": [
    "pivot = cf.pivot_table(index = 'ColorBin', values = 'units_sold', aggfunc = 'sum')"
   ]
  },
  {
   "cell_type": "code",
   "execution_count": 39,
   "metadata": {},
   "outputs": [
    {
     "data": {
      "text/html": [
       "<div>\n",
       "<style scoped>\n",
       "    .dataframe tbody tr th:only-of-type {\n",
       "        vertical-align: middle;\n",
       "    }\n",
       "\n",
       "    .dataframe tbody tr th {\n",
       "        vertical-align: top;\n",
       "    }\n",
       "\n",
       "    .dataframe thead th {\n",
       "        text-align: right;\n",
       "    }\n",
       "</style>\n",
       "<table border=\"1\" class=\"dataframe\">\n",
       "  <thead>\n",
       "    <tr style=\"text-align: right;\">\n",
       "      <th></th>\n",
       "      <th>units_sold</th>\n",
       "    </tr>\n",
       "    <tr>\n",
       "      <th>ColorBin</th>\n",
       "      <th></th>\n",
       "    </tr>\n",
       "  </thead>\n",
       "  <tbody>\n",
       "    <tr>\n",
       "      <th>1</th>\n",
       "      <td>1589313</td>\n",
       "    </tr>\n",
       "    <tr>\n",
       "      <th>2</th>\n",
       "      <td>1148227</td>\n",
       "    </tr>\n",
       "    <tr>\n",
       "      <th>3</th>\n",
       "      <td>222212</td>\n",
       "    </tr>\n",
       "    <tr>\n",
       "      <th>4</th>\n",
       "      <td>264500</td>\n",
       "    </tr>\n",
       "    <tr>\n",
       "      <th>5</th>\n",
       "      <td>326238</td>\n",
       "    </tr>\n",
       "    <tr>\n",
       "      <th>6</th>\n",
       "      <td>295300</td>\n",
       "    </tr>\n",
       "    <tr>\n",
       "      <th>7</th>\n",
       "      <td>291543</td>\n",
       "    </tr>\n",
       "    <tr>\n",
       "      <th>8</th>\n",
       "      <td>436190</td>\n",
       "    </tr>\n",
       "    <tr>\n",
       "      <th>9</th>\n",
       "      <td>338480</td>\n",
       "    </tr>\n",
       "    <tr>\n",
       "      <th>10</th>\n",
       "      <td>73701</td>\n",
       "    </tr>\n",
       "  </tbody>\n",
       "</table>\n",
       "</div>"
      ],
      "text/plain": [
       "          units_sold\n",
       "ColorBin            \n",
       "1            1589313\n",
       "2            1148227\n",
       "3             222212\n",
       "4             264500\n",
       "5             326238\n",
       "6             295300\n",
       "7             291543\n",
       "8             436190\n",
       "9             338480\n",
       "10             73701"
      ]
     },
     "execution_count": 39,
     "metadata": {},
     "output_type": "execute_result"
    }
   ],
   "source": [
    "pivot"
   ]
  },
  {
   "cell_type": "markdown",
   "metadata": {},
   "source": [
    "<b> Note: Generally understand the breakup of the different colors. Now I want to see if there are significant differences. </b>"
   ]
  },
  {
   "cell_type": "code",
   "execution_count": 40,
   "metadata": {},
   "outputs": [],
   "source": [
    "cf1 = pd.read_csv('/Users/naasirhaleem/Desktop/Kaggle Projects/Wish/intermediate_csvs/Color/Color4.csv')"
   ]
  },
  {
   "cell_type": "code",
   "execution_count": null,
   "metadata": {},
   "outputs": [],
   "source": [
    "cf1.head()"
   ]
  },
  {
   "cell_type": "code",
   "execution_count": null,
   "metadata": {},
   "outputs": [],
   "source": [
    "cf1.corr()"
   ]
  },
  {
   "cell_type": "markdown",
   "metadata": {},
   "source": [
    "<b> B: Run OLS to determine if there is true preference that leads to unit sales </b>"
   ]
  },
  {
   "cell_type": "code",
   "execution_count": 41,
   "metadata": {},
   "outputs": [],
   "source": [
    "Z = cf1[['is_black','is_blue','is_white','is_grey','is_purple']]\n",
    "a = cf1['units_sold']"
   ]
  },
  {
   "cell_type": "code",
   "execution_count": 42,
   "metadata": {},
   "outputs": [
    {
     "name": "stdout",
     "output_type": "stream",
     "text": [
      "                            OLS Regression Results                            \n",
      "==============================================================================\n",
      "Dep. Variable:             units_sold   R-squared:                       0.008\n",
      "Model:                            OLS   Adj. R-squared:                  0.004\n",
      "Method:                 Least Squares   F-statistic:                     2.382\n",
      "Date:                Thu, 01 Oct 2020   Prob (F-statistic):             0.0365\n",
      "Time:                        14:17:30   Log-Likelihood:                -16609.\n",
      "No. Observations:                1573   AIC:                         3.323e+04\n",
      "Df Residuals:                    1567   BIC:                         3.326e+04\n",
      "Df Model:                           5                                         \n",
      "Covariance Type:            nonrobust                                         \n",
      "==============================================================================\n",
      "                 coef    std err          t      P>|t|      [0.025      0.975]\n",
      "------------------------------------------------------------------------------\n",
      "const       3795.1804    332.794     11.404      0.000    3142.412    4447.949\n",
      "is_black    1415.6819    629.705      2.248      0.025     180.530    2650.834\n",
      "is_blue     -532.8004    991.145     -0.538      0.591   -2476.911    1411.310\n",
      "is_white     672.6289    670.748      1.003      0.316    -643.028    1988.286\n",
      "is_grey     2348.3407   1156.884      2.030      0.043      79.137    4617.545\n",
      "is_purple   2591.2347   1324.882      1.956      0.051      -7.493    5189.962\n",
      "==============================================================================\n",
      "Omnibus:                     1759.959   Durbin-Watson:                   1.872\n",
      "Prob(Omnibus):                  0.000   Jarque-Bera (JB):           144843.823\n",
      "Skew:                           5.620   Prob(JB):                         0.00\n",
      "Kurtosis:                      48.647   Cond. No.                         6.02\n",
      "==============================================================================\n",
      "\n",
      "Warnings:\n",
      "[1] Standard Errors assume that the covariance matrix of the errors is correctly specified.\n"
     ]
    }
   ],
   "source": [
    "X = Z\n",
    "y = a\n",
    "X2 = sm.add_constant(X)\n",
    "est = sm.OLS(y, X2)\n",
    "est2 = est.fit()\n",
    "print(est2.summary())"
   ]
  },
  {
   "cell_type": "markdown",
   "metadata": {},
   "source": [
    "<b> Note: This regression clearly shows us that the following colors do have a significant difference in sales: </b>\n",
    "\n",
    "<b> Black </b> \n",
    "\n",
    "<b> Grey </b>\n",
    "\n",
    "<b> Purple </b>\n",
    "\n",
    "This would lead me to predict that these would likely be the top performing colors in the next year of Summer Sales."
   ]
  },
  {
   "cell_type": "markdown",
   "metadata": {},
   "source": [
    "# Conclusions\n",
    "1: Correlation Table\n",
    "    \n",
    "    a. From the correlation table with the following list of factors: price, discount, uses ad boosts, rating, and merchant rating, I can see that none of these factors had a particularly strong correlation with units sold. \n",
    "    \n",
    "2: Multilinear and Polynomial Regressions\n",
    "    \n",
    "    a: After doing an OLS regression was able to narrow down the variables to: discount, uses ad boosts, product variation inventory, has urgency banner. Used rating count as well.\n",
    "    \n",
    "    b: Produced the following model after doing Multilinear Regression:\n",
    "    \n",
    "        Model is: 328.41944350052563  + discount* -11.382388703555067  + uses_ad_boosts* 443.4536185721469  +               rating_count* 4.1932176580775  + merchant_rating_count* 0.005062329140738299  +  product_variation_inventory* 7.572628639902614  + has_urgency_banner* -419.8878762214729\n",
    "\n",
    "        R^2 is 0.813156315814829 (ie 81.3% of data explained by MLR)\n",
    "    \n",
    "       c: Produced the following coefficients after doing Polynomial Regression (Still trying to understand how to find    the intercepts):\n",
    "   \n",
    "       Coefficients: discount: 1255.25\n",
    "                 uses_ad_boosts: 26910.875\n",
    "                 rating_count: -5.0\n",
    "                 merchant_rating_count: 3408.4375\n",
    "                 product_variation_inventory: 377.125\n",
    "                 has_urgency_banner: 129.6875\n",
    "        R^2 is 0.8394708588418742 (ie 83.9% of data explained by Polynomial Regression)\n",
    "    \n",
    "3: Generally Predicting Unit Sales of Summer Clothes in 2021\n",
    "    \n",
    "    a: After creating a pivot table I was able to determine that in terms of sales, the top 5 colors were               represented thusly:\n",
    "        \n",
    "        1. Black (1589313)\n",
    "        2. White (1148227)\n",
    "        3. Grey (436190)\n",
    "        4. Purple (338480)\n",
    "        5. Blue (326238)\n",
    "        \n",
    "     b: I then determined that there was a significant positive difference in sales related to 3 colors. These          colors and their coefficients were the following:\n",
    "        \n",
    "        1. Purple (2591.23)\n",
    "        2. Grey (2348.34)\n",
    "        3. Black (1415.68)\n",
    "        \n",
    "        This finding does not mean that color choice itself is a significant driver of unit sales. However, this           does mean that all else being equal these colors will perform significantly better than their counterparts.         Thus, we can expect that on average purple summer clothes will have higher average sales than all other             clothes in 2021. We can also expect that by, pure volume and by average performance, black clothes will             also sell at a higher rate than other clothes. \n",
    "        \n",
    "     \n",
    "   \n",
    "   \n",
    "    \n",
    "    "
   ]
  },
  {
   "cell_type": "markdown",
   "metadata": {},
   "source": [
    "\n",
    "\n",
    "\n"
   ]
  }
 ],
 "metadata": {
  "kernelspec": {
   "display_name": "Python 3",
   "language": "python",
   "name": "python3"
  },
  "language_info": {
   "codemirror_mode": {
    "name": "ipython",
    "version": 3
   },
   "file_extension": ".py",
   "mimetype": "text/x-python",
   "name": "python",
   "nbconvert_exporter": "python",
   "pygments_lexer": "ipython3",
   "version": "3.7.1"
  }
 },
 "nbformat": 4,
 "nbformat_minor": 2
}
